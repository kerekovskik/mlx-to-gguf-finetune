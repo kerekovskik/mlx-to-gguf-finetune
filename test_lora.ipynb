{
 "cells": [
  {
   "cell_type": "code",
   "execution_count": null,
   "metadata": {},
   "outputs": [],
   "source": [
    "!python3 -m pip install -r ./requirements_test_lora.txt"
   ]
  },
  {
   "cell_type": "code",
   "execution_count": 31,
   "metadata": {},
   "outputs": [],
   "source": [
    "import mlx_lm\n",
    "from mlx_lm import load, generate"
   ]
  },
  {
   "cell_type": "code",
   "execution_count": 32,
   "metadata": {},
   "outputs": [],
   "source": [
    "\n",
    "model_path = \"./TinyLlama-1.1B-Chat-v1.0-color-genius-MLX\"\n",
    "model, tokenizer = load(model_path)\n",
    "\n"
   ]
  },
  {
   "cell_type": "code",
   "execution_count": 33,
   "metadata": {},
   "outputs": [
    {
     "name": "stdout",
     "output_type": "stream",
     "text": [
      "#10bb30<|im_end|>\n",
      "...,\n"
     ]
    }
   ],
   "source": [
    "prompt_template = \"<|im_start|>user\\n{msg} <|im_end|>\\n<|im_start|>assistant\\n\"\n",
    "\n",
    "prompt = prompt_template.format(msg=\"Green\")\n",
    "\n",
    "response = generate(model, tokenizer, prompt=prompt, verbose=False,max_tokens=15)\n",
    "\n",
    "print(response)"
   ]
  },
  {
   "cell_type": "code",
   "execution_count": 34,
   "metadata": {},
   "outputs": [],
   "source": [
    "def print_color_space(hex_color):\n",
    "    def hex_to_rgb(hex_color):\n",
    "        hex_color = hex_color.lstrip('#')\n",
    "        return tuple(int(hex_color[i:i+2], 16) for i in (0, 2, 4))\n",
    "    r, g, b = hex_to_rgb(hex_color)\n",
    "    print(f'{hex_color}: \\033[48;2;{r};{g};{b}m           \\033[0m')"
   ]
  },
  {
   "cell_type": "code",
   "execution_count": 35,
   "metadata": {},
   "outputs": [],
   "source": [
    "def getHex(color_desc) -> str:\n",
    "    prompt_template = \"<|im_start|>user\\n{msg} <|im_end|>\\n<|im_start|>assistant\\n\"\n",
    "    prompt = prompt_template.format(msg=color_desc)\n",
    "    response = generate(model, tokenizer, prompt=prompt, verbose=False,max_tokens=15)\n",
    "    color_hex = response.replace(\"<|im_end|>\",\"\")\n",
    "    return color_hex"
   ]
  },
  {
   "cell_type": "code",
   "execution_count": 39,
   "metadata": {},
   "outputs": [
    {
     "name": "stdout",
     "output_type": "stream",
     "text": [
      "#ff66bb\n",
      "<unk>ts: \u001b[48;2;255;102;187m           \u001b[0m\n"
     ]
    }
   ],
   "source": [
    "description = \"Barbie Pink\"\n",
    "\n",
    "print_color_space(getHex(description))"
   ]
  }
 ],
 "metadata": {
  "kernelspec": {
   "display_name": "test_lora_venv",
   "language": "python",
   "name": "python3"
  },
  "language_info": {
   "codemirror_mode": {
    "name": "ipython",
    "version": 3
   },
   "file_extension": ".py",
   "mimetype": "text/x-python",
   "name": "python",
   "nbconvert_exporter": "python",
   "pygments_lexer": "ipython3",
   "version": "3.10.12"
  }
 },
 "nbformat": 4,
 "nbformat_minor": 2
}
